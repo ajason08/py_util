{
  "nbformat": 4,
  "nbformat_minor": 0,
  "metadata": {
    "colab": {
      "name": "py_util.ipynb",
      "provenance": [],
      "toc_visible": true,
      "mount_file_id": "1w5Guxv1hYJxScdjqj_uj_FCMYJbJZytS",
      "authorship_tag": "ABX9TyMtsxTimBHks5U4emEbhxJ+",
      "include_colab_link": true
    },
    "kernelspec": {
      "name": "python3",
      "display_name": "Python 3"
    }
  },
  "cells": [
    {
      "cell_type": "markdown",
      "metadata": {
        "id": "view-in-github",
        "colab_type": "text"
      },
      "source": [
        "<a href=\"https://colab.research.google.com/github/ajason08/py_util/blob/master/py_util.ipynb\" target=\"_parent\"><img src=\"https://colab.research.google.com/assets/colab-badge.svg\" alt=\"Open In Colab\"/></a>"
      ]
    },
    {
      "cell_type": "code",
      "metadata": {
        "id": "niVEreQVYHqL",
        "colab_type": "code",
        "colab": {}
      },
      "source": [
        "import time\n",
        "class stopwatch:\n",
        "  def __init__(self):\n",
        "    self._started = time.time()\n",
        "    self._last_started = self._started\n",
        "    self._laps = []\n",
        "    self._totaltime = \"please call stop() first!\"    \n",
        "\n",
        "  def _humanizetime(self,elapsed_time):\n",
        "    mins = int(elapsed_time / 60)\n",
        "    secs = int(elapsed_time - (mins * 60))\n",
        "    return f'Time: {mins}m {secs}s'    \n",
        "\n",
        "  def stop(self, verbose=True):\n",
        "    stoptimer = time.time()\n",
        "    elapsed_time = stoptimer - self._started\n",
        "    self._totaltime = self._humanizetime(elapsed_time)\n",
        "    \n",
        "    # calculating lap time\n",
        "    elapsed_time = stoptimer - self._last_started    \n",
        "    lap = self._humanizetime(elapsed_time)\n",
        "    self._laps.append(lap)    \n",
        "    if verbose: print(lap)        \n",
        "    self._last_started = time.time()\n",
        "\n",
        "  # read-only properties\n",
        "  @property\n",
        "  def laps(self):\n",
        "   return self._laps\n",
        "  @property\n",
        "  def totaltime(self):\n",
        "   return self._totaltime"
      ],
      "execution_count": 0,
      "outputs": []
    },
    {
      "cell_type": "code",
      "metadata": {
        "id": "PnDvtgkKYJx6",
        "colab_type": "code",
        "colab": {}
      },
      "source": [
        "def testing_stopwatch():\n",
        "  mywatch = stopwatch()\n",
        "  time.sleep(2)\n",
        "  mywatch.stop()\n",
        "  print(mywatch.laps)\n",
        "  time.sleep(3)\n",
        "  mywatch.stop()\n",
        "  print(mywatch.laps)\n",
        "  print(mywatch.totaltime)"
      ],
      "execution_count": 0,
      "outputs": []
    }
  ]
}